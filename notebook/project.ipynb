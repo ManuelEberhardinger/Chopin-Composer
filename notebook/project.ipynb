{
 "cells": [
  {
   "cell_type": "markdown",
   "metadata": {},
   "source": [
    "# Project: Music Generation with RNN\n",
    "\n",
    "Info: The notebook is just for visualisation and explanation of the python code and won't run like a normal notebook.\n",
    "To run the code clone the Github repo and run the main.py file: e.g `python main.py --train small_model`.\n",
    "\n",
    "## Agenda:\n",
    "1. Project Structure and Overview\n",
    "2. Data Access, Data Understanding, Preprocessing, Feature Selection or Feature Extraction\n",
    "3. Machine Learning\n",
    "4. Evaluation, Optimization and Visualisation\n",
    "5. Discussion and Conclusion\n",
    "\n",
    "## 1. Project Structure and Overview\n",
    "\n",
    "The Project consists of three files which all relate to a different stage of the data mining process:\n",
    "* main.py - the file to execute\n",
    "* midihelper.py - Data Access, Data Understanding, Preprocessing, Feature Selection or Feature Extraction\n",
    "* neuralnetwork.py - Machine Learning, Evaluation and Optimization (Visualisation wil be done in the notebook)"
   ]
  },
  {
   "cell_type": "markdown",
   "metadata": {},
   "source": [
    "### main.py\n",
    "\n",
    "This file should be executed to start the training of the neural network and generate music afterwards. It awaits one mandatory command line argument and two optional parameters:\n",
    "\n",
    "1. `--train` or `--no-train` - a flag to indicate if the network should be trained or used for music generation \n",
    "2. `--midifile` or `-m` - the name of the midi file which should be created\n",
    "3. `modelName` - the name of the neural network which should be created, must match the method names of the models in the neuralnetwork.py file"
   ]
  },
  {
   "cell_type": "code",
   "execution_count": null,
   "metadata": {},
   "outputs": [],
   "source": [
    "from midihelper import MidiHelper, generate_midi_from_prediction\n",
    "from neuralnetwork import CustomModel\n",
    "import argparse\n",
    "\n",
    "# get all methods which creates a neural network and should be used as the modelName argument\n",
    "allowed_methods = [func for func in dir(CustomModel) if callable(getattr(CustomModel, func)) and \"model\" in str(func)]\n",
    "\n",
    "# init the argument parser and add the arguments\n",
    "parser = argparse.ArgumentParser(description='Generate classical music in the style of Frederic Chopin.')\n",
    "parser.add_argument('--train', dest='train', action='store_true')\n",
    "parser.add_argument('--no-train', dest='train', action='store_false')\n",
    "parser.set_defaults(train=True)\n",
    "parser.add_argument('-m', '--midifile', nargs='?', dest=\"midifile\", type=str, help='output file, in midi format')\n",
    "parser.add_argument(\"modelName\", help=\"the name of the model which should be created,\" +\n",
    "                                      \" must match one of this method names: \" + str(allowed_methods),\n",
    "                    type=str)\n",
    "args = parser.parse_args()\n",
    "\n",
    "# create the midihelper and generate the network input and output\n",
    "midiHelper = MidiHelper(\"chopin-midi\", \"chopinNotesWithOffset\")\n",
    "network_input, network_output = midiHelper.generate_sequences(100)\n",
    "\n",
    "# init the network class, train network and predict notes\n",
    "net = CustomModel(network_input, network_output, midiHelper.get_notes(), args.modelName, args.train)\n",
    "net.train_network(epochs=200, batch_size=64)\n",
    "generated_music = net.generate_music(1000)\n",
    "\n",
    "# generate the midi file from the predicted notes\n",
    "midi_name = args.midifile if args.midifile is not None else 'default.mid'\n",
    "midi_name = args.modelName if args.midifile is None and args.train is True else midi_name\n",
    "generate_midi_from_prediction(generated_music, midi_name)"
   ]
  },
  {
   "cell_type": "markdown",
   "metadata": {},
   "source": [
    "## 2. Data Access, Data Understanding, Preprocessing, Feature Selection or Feature Extraction\n",
    "\n",
    "All of these different stages of the process are implemented in the midihelper.py file.\n",
    "\n",
    "### Data Access \n",
    "The midi files were retrieved from this site: http://www.piano-midi.de/chopin_d.htm \n",
    "\n",
    "### Data Understanding\n",
    "There are three different format of midi files:\n",
    "* Type 0 - all the tracks are merged into a single track\n",
    "* Type 1 - separate information for each track\n",
    "* Type 2 - contain one or more independant tracks \n",
    "\n",
    "For more information: https://www.csie.ntu.edu.tw/~r92092/ref/midi/\n",
    "\n",
    "### Preprocessing\n",
    "\n",
    "For handling of the midi files the music21 library is used: http://web.mit.edu/music21/\n",
    "\n",
    "The class needs two parameters. The path to the folder which contains the midi files and the name of the file which the processed midi files should be saved, so that the midi files only needs to be processed one time if they don't change."
   ]
  },
  {
   "cell_type": "code",
   "execution_count": null,
   "metadata": {},
   "outputs": [],
   "source": [
    "import glob\n",
    "import pickle\n",
    "import os\n",
    "import numpy as np\n",
    "from keras.utils import np_utils\n",
    "from music21 import converter, instrument, note, chord, stream\n",
    "\n",
    "\n",
    "class MidiHelper:\n",
    "\n",
    "    def __init__(self, path, name):\n",
    "        self.path = path # path to the folder of the midi files\n",
    "        self.name = name # the file name to save the processed midi files\n",
    "        self.notes = [] # all the notes with the offset used in all midi files\n",
    "        self.notes = self.get_notes() # get the notes from the midi files or from the saved python object\n",
    "\n",
    "    def create_notes(self):\n",
    "        self.notes = []\n",
    "        \n",
    "        # loop over all midi files in the folder\n",
    "        for file in glob.glob(self.path + \"/*.mid\"):\n",
    "            # parse midi file\n",
    "            midi = converter.parse(file)\n",
    "            \n",
    "            # get the different parts of the midi file => type 1 or type 0\n",
    "            parts = instrument.partitionByInstrument(midi)\n",
    "            \n",
    "            # recurse: http://web.mit.edu/music21/doc/moduleReference/moduleStream.html?highlight=recurse#music21.stream.Stream.recurse\n",
    "            notes_to_parse = parts.parts[0].recurse() if parts else midi.flat.notes\n",
    "            \n",
    "            # calculate the different offsets of chords or notes\n",
    "            last_offset_notes = 0\n",
    "            last_offset_chords = 0\n",
    "            \n",
    "            # loop over all elements of the single midi file \n",
    "            for element in notes_to_parse:\n",
    "                # create the notes or chords and calculate the offset\n",
    "                if isinstance(element, note.Note):\n",
    "                    offset = element.offset - last_offset_notes\n",
    "                    last_offset_notes = element.offset\n",
    "                    self.notes.append(str(element.pitch) + \",\" + str(offset))\n",
    "                elif isinstance(element, chord.Chord):\n",
    "                    offset = element.offset - last_offset_chords\n",
    "                    last_offset_chords = element.offset\n",
    "                    # append each note with a _ and add the offset at the end separated with a comma\n",
    "                    self.notes.append('_'.join(str(n) for n in element.normalOrder) + \",\" + str(offset))\n",
    "\n",
    "        # save notes so that loading is faster\n",
    "        with open(self.name, 'wb') as f:\n",
    "            pickle.dump(self.notes, f)\n",
    "\n",
    "        return self.notes\n",
    "\n",
    "    # get the parsed notes of all midi files\n",
    "    def get_notes(self):\n",
    "        # check if notes already created\n",
    "        if self.notes and len(self.notes) != 0:\n",
    "            return self.notes\n",
    "\n",
    "        # if notes file with the name exists => use it\n",
    "        if os.path.isfile(self.name):\n",
    "            print('Loaded notes from file')\n",
    "            with open(self.name, 'rb') as f:\n",
    "                self.notes = pickle.load(f)\n",
    "                return self.notes\n",
    "            \n",
    "        # else create new notes with midi files\n",
    "        else:\n",
    "            print('Create new notes out of midi files')\n",
    "            return self.create_notes()\n",
    "\n",
    "    # map notes to integers\n",
    "    def get_note_to_int_mapping(self):\n",
    "        # get all pitch names\n",
    "        pitch_names = sorted(set(self.notes))\n",
    "        # create a dictionary to map pitches to integers\n",
    "        note_to_int = dict((note, number) for number, note in enumerate(pitch_names))\n",
    "        return note_to_int\n",
    "\n",
    "    def get_size_of_output_classes(self):\n",
    "        return len(set(self.notes))"
   ]
  },
  {
   "cell_type": "markdown",
   "metadata": {},
   "source": [
    "### Feature Selection or Feature Extraction\n",
    "\n",
    "This method generates the network input and output sequences to train the neural network"
   ]
  },
  {
   "cell_type": "code",
   "execution_count": null,
   "metadata": {},
   "outputs": [],
   "source": [
    "    # generate the sequences which are the input for the neural network\n",
    "    def generate_sequences(self, sequence_length):\n",
    "        note_to_int = self.get_note_to_int_mapping()\n",
    "\n",
    "        network_input = []\n",
    "        network_output = []\n",
    "\n",
    "        # create input sequences and the corresponding outputs like in Ass05\n",
    "        for i in range(0, len(self.notes) - sequence_length, 1):\n",
    "            sequence_in = self.notes[i:i + sequence_length]\n",
    "            sequence_out = self.notes[i + sequence_length]\n",
    "            network_input.append([note_to_int[char] for char in sequence_in])\n",
    "            network_output.append(note_to_int[sequence_out])\n",
    "\n",
    "        n_patterns = len(network_input)\n",
    "\n",
    "        # reshape the input into a format compatible with neural network layers\n",
    "        network_input = np.reshape(network_input, (n_patterns, sequence_length, 1))\n",
    "\n",
    "        # normalize input\n",
    "        network_input = network_input / float(self.get_size_of_output_classes())\n",
    "        \n",
    "        # Convert class vector (integers from 0 to nb_classes) to binary class matrix, for use with categorical_crossentropy.\n",
    "        network_output = np_utils.to_categorical(network_output)\n",
    "\n",
    "        return network_input, network_output"
   ]
  },
  {
   "cell_type": "markdown",
   "metadata": {},
   "source": [
    "## 3. Machine Learning\n",
    "\n",
    "### The CustomModel class\n",
    "\n",
    "This class contains all methods to train and create different neural network models. It is also able to generate new music sequences. This sequences are only the predicted notes in integers and must be transformed to notes which can be converted into a midi file.\n"
   ]
  },
  {
   "cell_type": "code",
   "execution_count": null,
   "metadata": {},
   "outputs": [],
   "source": [
    "from keras.models import Sequential\n",
    "from keras.layers import Dense\n",
    "from keras.layers import Dropout\n",
    "from keras.layers import LSTM\n",
    "from keras.layers import GRU\n",
    "from keras.layers import Activation\n",
    "from keras.callbacks import ModelCheckpoint\n",
    "from keras.models import load_model\n",
    "import numpy as np\n",
    "import pickle\n",
    "\n",
    "\n",
    "class CustomModel:\n",
    "\n",
    "    def __init__(self, network_input, network_output, notes, model_name, train):\n",
    "        self.network_input = network_input\n",
    "        self.network_output = network_output\n",
    "        self.notes = notes\n",
    "        self.n_vocab = len(set(notes))\n",
    "        self.model_name = model_name\n",
    "        self.train = train\n",
    "\n",
    "        # if in train mode create the neural network with the model_name which must map to a method\n",
    "        if self.train:\n",
    "            self.model_path = \"./weights/\" + self.model_name + \".hdf5\"\n",
    "            # https://stackoverflow.com/questions/3061/calling-a-function-of-a-module-by-using-its-name-a-string\n",
    "            if os.path.isfile(self.model_path):\n",
    "                self.model = load_model(self.model_path)\n",
    "            else:\n",
    "                self.model = getattr(self, self.model_name)()\n",
    "        else:\n",
    "            self.model_path = model_name\n",
    "            self.model = load_model(self.model_path)\n",
    "\n",
    "    def train_network(self, epochs, batch_size):\n",
    "        if not self.train:\n",
    "            return\n",
    "\n",
    "        # checkpoint the model and save every 50 epochs the model\n",
    "        file_path = \"./weights/\" + self.model_name + \"-{epoch:02d}-{loss:.4f}.hdf5\"\n",
    "        checkpoint = ModelCheckpoint(\n",
    "            file_path,\n",
    "            monitor='loss',\n",
    "            verbose=0,\n",
    "            save_best_only=False,\n",
    "            mode='min',\n",
    "            period=50\n",
    "        )\n",
    "        callbacks_list = [checkpoint]\n",
    "\n",
    "        # train the model\n",
    "        history = self.model.fit(self.network_input, self.network_output, epochs=epochs,\n",
    "                                 batch_size=batch_size, callbacks=callbacks_list)\n",
    "\n",
    "        # save history of model\n",
    "        with open(\"./\" + self.model_name + \"_history\", 'wb') as f:\n",
    "            pickle.dump(history.history, f)\n",
    "\n",
    "        self.model.save(self.model_path)\n",
    "\n",
    "        # model is trained so set flag to false\n",
    "        self.train = False\n",
    "\n",
    "    def get_int_to_note_mapping(self):\n",
    "        # get all pitch names\n",
    "        pitch_names = sorted(set(self.notes))\n",
    "        int_to_note = dict((number, note) for number, note in enumerate(pitch_names))\n",
    "        return int_to_note"
   ]
  },
  {
   "cell_type": "markdown",
   "metadata": {},
   "source": [
    "### The different trained and evaluated models \n",
    "These models were trained and evaluated. As an evaluation with the known metrics for music generation is inappropriate, only the loss curve is plotted."
   ]
  },
  {
   "cell_type": "code",
   "execution_count": 2,
   "metadata": {},
   "outputs": [],
   "source": [
    "import pickle\n",
    "import matplotlib.pyplot as plt\n",
    "import seaborn as sb\n",
    "import numpy as np\n",
    "sb.set_style('whitegrid')\n",
    "sb.set_context('notebook')\n",
    "\n",
    "# load the saved history and plot the loss\n",
    "def plot_loss_from_saved_history(path):\n",
    "    history = None\n",
    "    with open(path, 'rb') as f:\n",
    "        history = pickle.load(f)\n",
    "\n",
    "    loss = history['loss']\n",
    "    min_train_loss=np.min(loss)\n",
    "\n",
    "    epochs = range(1, len(loss) + 1)\n",
    "\n",
    "    plt.figure()\n",
    "\n",
    "    plt.plot(epochs[1:], loss[1:], label='Training loss')\n",
    "    plt.title('Training loss')\n",
    "    plt.legend()\n",
    "\n",
    "    plt.show()\n",
    "    \n",
    "    print(\"Minimum Loss on training data: \", min_train_loss)\n",
    "        "
   ]
  },
  {
   "cell_type": "code",
   "execution_count": 14,
   "metadata": {},
   "outputs": [],
   "source": [
    "    def big_model(self):\n",
    "        model = Sequential()\n",
    "        model.add(LSTM(\n",
    "            512,\n",
    "            input_shape=(self.network_input.shape[1], self.network_input.shape[2]),\n",
    "            return_sequences=True\n",
    "        ))\n",
    "        model.add(Dropout(0.3))\n",
    "        model.add(LSTM(512, return_sequences=True))\n",
    "        model.add(Dropout(0.3))\n",
    "        model.add(LSTM(512))\n",
    "        model.add(Dense(2048))\n",
    "        model.add(Dropout(0.3))\n",
    "        model.add(Dense(self.n_vocab))\n",
    "        model.add(Activation('softmax'))\n",
    "        model.compile(loss='categorical_crossentropy', optimizer='adam')\n",
    "        return model"
   ]
  },
  {
   "cell_type": "code",
   "execution_count": 15,
   "metadata": {},
   "outputs": [
    {
     "data": {
      "image/png": "[encoded data removed]",
      "text/plain": [
       "<Figure size 432x288 with 1 Axes>"
      ]
     },
     "metadata": {},
     "output_type": "display_data"
    },
    {
     "name": "stdout",
     "output_type": "stream",
     "text": [
      "Minimum Loss on training data:  6.7686880373\n"
     ]
    }
   ],
   "source": [
    "plot_loss_from_saved_history(\"big_model_history\")"
   ]
  },
  {
   "cell_type": "code",
   "execution_count": 16,
   "metadata": {},
   "outputs": [],
   "source": [
    "    def small_model(self):\n",
    "        model = Sequential()\n",
    "        model.add(LSTM(\n",
    "            256,\n",
    "            input_shape=(self.network_input.shape[1], self.network_input.shape[2]),\n",
    "            return_sequences=True\n",
    "        ))\n",
    "        model.add(Dropout(0.3))\n",
    "        model.add(LSTM(256))\n",
    "        model.add(Dense(2048))\n",
    "        model.add(Dropout(0.3))\n",
    "        model.add(Dense(self.n_vocab))\n",
    "        model.add(Activation('softmax'))\n",
    "        model.compile(loss='categorical_crossentropy', optimizer='adam')\n",
    "        return model"
   ]
  },
  {
   "cell_type": "code",
   "execution_count": 17,
   "metadata": {},
   "outputs": [
    {
     "data": {
      "image/png": "[encoded data removed]",
      "text/plain": [
       "<Figure size 432x288 with 1 Axes>"
      ]
     },
     "metadata": {},
     "output_type": "display_data"
    },
    {
     "name": "stdout",
     "output_type": "stream",
     "text": [
      "Minimum Loss on training data:  0.190600126362\n"
     ]
    }
   ],
   "source": [
    "plot_loss_from_saved_history(\"small_model_history\")"
   ]
  },
  {
   "cell_type": "code",
   "execution_count": 3,
   "metadata": {},
   "outputs": [],
   "source": [
    "    def small_model2(self):\n",
    "        model = Sequential()\n",
    "        model.add(LSTM(\n",
    "            128,\n",
    "            input_shape=(self.network_input.shape[1], self.network_input.shape[2]),\n",
    "            return_sequences=True\n",
    "        ))\n",
    "        model.add(Dropout(0.3))\n",
    "        model.add(LSTM(128, return_sequences=True))\n",
    "        model.add(Dropout(0.3))\n",
    "        model.add(LSTM(128))\n",
    "        model.add(Dense(2048))\n",
    "        model.add(Dropout(0.3))\n",
    "        model.add(Dense(self.n_vocab))\n",
    "        model.add(Activation('softmax'))\n",
    "        model.compile(loss='categorical_crossentropy', optimizer='adam')\n",
    "        return model"
   ]
  },
  {
   "cell_type": "code",
   "execution_count": 4,
   "metadata": {},
   "outputs": [
    {
     "data": {
      "image/png": "[encoded data removed]",
      "text/plain": [
       "<Figure size 432x288 with 1 Axes>"
      ]
     },
     "metadata": {},
     "output_type": "display_data"
    },
    {
     "name": "stdout",
     "output_type": "stream",
     "text": [
      "Minimum Loss on training data:  0.818565505648\n"
     ]
    }
   ],
   "source": [
    "plot_loss_from_saved_history(\"small_model2_history\")"
   ]
  },
  {
   "cell_type": "code",
   "execution_count": 19,
   "metadata": {},
   "outputs": [],
   "source": [
    "    def model(self):\n",
    "        model = Sequential()\n",
    "        model.add(LSTM(\n",
    "            512,\n",
    "            input_shape=(self.network_input.shape[1], self.network_input.shape[2]),\n",
    "            return_sequences=True\n",
    "        ))\n",
    "        model.add(Dropout(0.3))\n",
    "        model.add(GRU(512, activation='relu', dropout=0.3, recurrent_dropout=0.5, return_sequences=True))\n",
    "        model.add(LSTM(512))\n",
    "        model.add(Dense(2048))\n",
    "        model.add(Dropout(0.3))\n",
    "        model.add(Dense(2048))\n",
    "        model.add(Dropout(0.3))\n",
    "        model.add(Dense(self.n_vocab))\n",
    "        model.add(Activation('softmax'))\n",
    "        model.compile(loss='categorical_crossentropy', optimizer='adam')\n",
    "        return model"
   ]
  },
  {
   "cell_type": "code",
   "execution_count": 20,
   "metadata": {},
   "outputs": [
    {
     "data": {
      "image/png": "[encoded data removed]",
      "text/plain": [
       "<Figure size 432x288 with 1 Axes>"
      ]
     },
     "metadata": {},
     "output_type": "display_data"
    },
    {
     "name": "stdout",
     "output_type": "stream",
     "text": [
      "Minimum Loss on training data:  0.843177202649\n"
     ]
    }
   ],
   "source": [
    "plot_loss_from_saved_history(\"model_history\")"
   ]
  },
  {
   "cell_type": "code",
   "execution_count": null,
   "metadata": {},
   "outputs": [],
   "source": [
    "    def model_gru(self):\n",
    "        model = Sequential()\n",
    "        model.add(GRU(\n",
    "            128,\n",
    "            input_shape=(self.network_input.shape[1], self.network_input.shape[2]),\n",
    "            return_sequences=True\n",
    "        ))\n",
    "        model.add(Dropout(0.3))\n",
    "        model.add(GRU(128, return_sequences=True))\n",
    "        model.add(Dropout(0.3))\n",
    "        model.add(GRU(128))\n",
    "        model.add(Dense(2048))\n",
    "        model.add(Dropout(0.3))\n",
    "        model.add(Dense(self.n_vocab))\n",
    "        model.add(Activation('softmax'))\n",
    "        model.compile(loss='categorical_crossentropy', optimizer='adam')\n",
    "        return model"
   ]
  },
  {
   "cell_type": "code",
   "execution_count": 5,
   "metadata": {},
   "outputs": [
    {
     "data": {
      "image/png": "[encoded data removed]",
      "text/plain": [
       "<Figure size 432x288 with 1 Axes>"
      ]
     },
     "metadata": {},
     "output_type": "display_data"
    },
    {
     "name": "stdout",
     "output_type": "stream",
     "text": [
      "Minimum Loss on training data:  1.1917844667\n"
     ]
    }
   ],
   "source": [
    "plot_loss_from_saved_history(\"model_gru_history\")"
   ]
  },
  {
   "cell_type": "markdown",
   "metadata": {},
   "source": [
    "### Music Generation (4. Evaluation and Visualisation)\n",
    "\n",
    "This chapter describes how music can be generated with a trained neural network. As the network is not able to generate music from the beginning with an own start sequence, a random integer will choose an input pattern from the network inputs. With this pattern the network can predict new music but it will only predict the indexes of the notes, so the indexes must be converted into the notes."
   ]
  },
  {
   "cell_type": "code",
   "execution_count": null,
   "metadata": {},
   "outputs": [],
   "source": [
    "    def generate_music(self, sequence_length):\n",
    "        # in train mode so no music should be generated\n",
    "        if self.train:\n",
    "            return\n",
    "\n",
    "        print(\"Start generating music..\")\n",
    "        \n",
    "        # there is no start sequence for predicting the notes so a random sequence from the network input will be used\n",
    "        start = np.random.randint(0, len(self.network_input) - 1)        \n",
    "        int_to_note = self.get_int_to_note_mapping()\n",
    "        pattern = self.network_input[start]\n",
    "        prediction_output = []\n",
    "\n",
    "        # generate sequence_length notes\n",
    "        for note_index in range(sequence_length):\n",
    "            prediction_input = np.reshape(pattern, (1, len(pattern), 1))\n",
    "            \n",
    "            # normalize input\n",
    "            prediction_input = prediction_input / float(self.n_vocab)\n",
    "            prediction = self.model.predict(prediction_input, verbose=1)\n",
    "            \n",
    "            # get predicted index and convert it into a note\n",
    "            index = int(np.argmax(prediction))\n",
    "            result = int_to_note[index]\n",
    "            prediction_output.append(result)\n",
    "            \n",
    "            # append predicted note to pattern and remove the first note for the new input sequence\n",
    "            pattern = np.append(pattern, index)\n",
    "            pattern = pattern[1:len(pattern)]\n",
    "\n",
    "        return prediction_output"
   ]
  },
  {
   "cell_type": "markdown",
   "metadata": {},
   "source": [
    "The method below this text will generate a midi file with the generated sequence of the network. The sequence contains the notes with the corresponding offset. The notes and chords will be created with the midi21-library and in the end a new midifile is created."
   ]
  },
  {
   "cell_type": "code",
   "execution_count": null,
   "metadata": {},
   "outputs": [],
   "source": [
    "# in midihelper.py file\n",
    "def generate_midi_from_prediction(prediction_output, file_name):\n",
    "    offset = 0\n",
    "    output_notes = []\n",
    "    # create note and chord objects based on the values generated by the model\n",
    "    for pattern in prediction_output:\n",
    "        \n",
    "        # split pattern and offset, if only notes were predicted without a offset then set a standard offset of 0.5\n",
    "        pattern_and_offset = pattern.split(',')\n",
    "        print(pattern_and_offset)\n",
    "        if len(pattern_and_offset) != 2:\n",
    "            pattern_and_offset = [pattern, 0.5]\n",
    "\n",
    "        pattern = pattern_and_offset[0]\n",
    "        # pattern is a chord\n",
    "        if ('_' in pattern) or pattern.isdigit():\n",
    "            # split the chord representation and create it with all information necessary for the midi files\n",
    "            notes_in_chord = pattern.split('_')\n",
    "            notes = []\n",
    "\n",
    "            for current_note in notes_in_chord:\n",
    "                new_note = note.Note(int(current_note))\n",
    "                new_note.storedInstrument = instrument.Piano()\n",
    "                notes.append(new_note)\n",
    "\n",
    "            new_chord = chord.Chord(notes)\n",
    "            new_chord.offset = offset\n",
    "            output_notes.append(new_chord)\n",
    "\n",
    "        # pattern is a note\n",
    "        else:\n",
    "            # create new note with all information necessary for the midi files\n",
    "            new_note = note.Note(pattern)\n",
    "            new_note.offset = offset\n",
    "            new_note.storedInstrument = instrument.Piano()\n",
    "            output_notes.append(new_note)\n",
    "\n",
    "        # check if offset is a number and not a fraction\n",
    "        if \"/\" in pattern_and_offset[1]:\n",
    "            numbers = pattern_and_offset[1].split('/')\n",
    "            if len(numbers) == 2:\n",
    "                pattern_and_offset[1] = float(numbers[0]) / float(numbers[1])\n",
    "            else:\n",
    "                pattern_and_offset[1] = 0.5  # if not two numbers are given set a standard offset\n",
    "\n",
    "        # increase offset each iteration so that notes do not stack\n",
    "        offset += float(pattern_and_offset[1])\n",
    "\n",
    "    # check if file_name has the correct extension\n",
    "    if not file_name.endswith('.mid'):\n",
    "        file_name = file_name + '.mid'\n",
    "\n",
    "    # create the midi file\n",
    "    midi_stream = stream.Stream(output_notes)\n",
    "    midi_stream.write('midi', fp=file_name)"
   ]
  },
  {
   "cell_type": "markdown",
   "metadata": {},
   "source": [
    "## 5. Discussion and Conclussion\n",
    "\n",
    "Generating music with neural networks is different from other tasks, because there are no good metrics for monitoring the training. There is no correct or false predicted note as everyone likes other styles of music. \n",
    "\n",
    "A few things I noticed:\n",
    "\n",
    "* minimizing the error not always improves the generated music\n",
    "* there can be a huge improvement with more epochs training although the loss is almost the same\n",
    "* use another loss function as not only one note is correct but more notes could be correct (maybe check for the intervals)\n",
    "* sometimes whole parts of the generated music are copied from the training data or almost sounds similar"
   ]
  }
 ],
 "metadata": {
  "kernelspec": {
   "display_name": "Python 3",
   "language": "python",
   "name": "python3"
  },
  "language_info": {
   "codemirror_mode": {
    "name": "ipython",
    "version": 3
   },
   "file_extension": ".py",
   "mimetype": "text/x-python",
   "name": "python",
   "nbconvert_exporter": "python",
   "pygments_lexer": "ipython3",
   "version": "3.6.5"
  }
 },
 "nbformat": 4,
 "nbformat_minor": 2
}
